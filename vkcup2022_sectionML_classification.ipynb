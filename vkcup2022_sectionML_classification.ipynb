{
  "cells": [
    {
      "cell_type": "code",
      "execution_count": 1,
      "metadata": {
        "colab": {
          "base_uri": "https://localhost:8080/"
        },
        "id": "L0czLhoGnEL_",
        "outputId": "c076df63-1db2-4f58-f7e3-e5899ab9837f"
      },
      "outputs": [
       
      ],
      "source": [
        "!pip install catboost\n",
        "!pip install scikit-learn\n",
        "!pip install nltk\n",
        "!pip install pymorphy2\n",
        "!python -m nltk.downloader stopwords"
      ]
    },
    {
      "cell_type": "code",
      "execution_count": 2,
      "metadata": {
        "id": "Kn19Klr_n8On"
      },
      "outputs": [],
      "source": [
        "import pandas as pd\n",
        "import numpy as np\n",
        "import pymorphy2\n",
        "from nltk.corpus import stopwords\n",
        "import string\n",
        "from nltk.stem.wordnet import WordNetLemmatizer"
      ]
    },
    {
      "cell_type": "code",
      "source": [],
      "metadata": {
        "id": "yVuQQniTF5qC"
      },
      "execution_count": null,
      "outputs": []
    },
    {
      "cell_type": "markdown",
      "source": [
        "# **Data prepararion**"
      ],
      "metadata": {
        "id": "PGlnpk9sNlfr"
      }
    },
    {
      "cell_type": "markdown",
      "source": [
        "**Read data from files**"
      ],
      "metadata": {
        "id": "aYOmUN31F-uG"
      }
    },
    {
      "cell_type": "code",
      "source": [
        "pd_train=pd.read_csv('train.csv')\n",
        "pd_train"
      ],
      "metadata": {
        "colab": {
          "base_uri": "https://localhost:8080/",
          "height": 424
        },
        "id": "2tT0th4KDTDN",
        "outputId": "34befed1-3e18-4253-8cdd-50474b6c5856"
      },
      "execution_count": 5,
      "outputs": [
        {
          "output_type": "execute_result",
          "data": {
            "text/plain": [
              "             oid      category  \\\n",
              "0      365271984  winter_sport   \n",
              "1      503385563       extreme   \n",
              "2      146016084      football   \n",
              "3      933865449    boardgames   \n",
              "4      713550145        hockey   \n",
              "...          ...           ...   \n",
              "38735  910636962     autosport   \n",
              "38736  669736851     autosport   \n",
              "38737  558919241        tennis   \n",
              "38738  776944963    volleyball   \n",
              "38739  577334983        hockey   \n",
              "\n",
              "                                                    text  \n",
              "0      Волшебные фото Виктория Поплавская ЕвгенияМедв...  \n",
              "1      Возвращение в подземелье Треша 33 Эйфория тупо...  \n",
              "2      Лучшие чешские вратари – Доминик Доминатор Гаш...  \n",
              "3      Rtokenoid Warhammer40k валрак решил нас подкор...  \n",
              "4      Шестеркин затаскивает Рейнджерс в финал Восточ...  \n",
              "...                                                  ...  \n",
              "38735  8 битная буря снова накрыла пикселями автомоби...  \n",
              "38736  Ира Сидоркова объясняет как сказалась на ее ма...  \n",
              "38737  24 я ракетка мира хорват Марин Чилич обыграл и...  \n",
              "38738  Стал известен календарь мужской сборной России...  \n",
              "38739  Первенство ВХЛ. Первый этап Динамо Алтай Бн ЦС...  \n",
              "\n",
              "[38740 rows x 3 columns]"
            ],
            "text/html": [
              "\n",
              "  <div id=\"df-88d5f1e4-329d-42d1-a9da-7acb62947131\">\n",
              "    <div class=\"colab-df-container\">\n",
              "      <div>\n",
              "<style scoped>\n",
              "    .dataframe tbody tr th:only-of-type {\n",
              "        vertical-align: middle;\n",
              "    }\n",
              "\n",
              "    .dataframe tbody tr th {\n",
              "        vertical-align: top;\n",
              "    }\n",
              "\n",
              "    .dataframe thead th {\n",
              "        text-align: right;\n",
              "    }\n",
              "</style>\n",
              "<table border=\"1\" class=\"dataframe\">\n",
              "  <thead>\n",
              "    <tr style=\"text-align: right;\">\n",
              "      <th></th>\n",
              "      <th>oid</th>\n",
              "      <th>category</th>\n",
              "      <th>text</th>\n",
              "    </tr>\n",
              "  </thead>\n",
              "  <tbody>\n",
              "    <tr>\n",
              "      <th>0</th>\n",
              "      <td>365271984</td>\n",
              "      <td>winter_sport</td>\n",
              "      <td>Волшебные фото Виктория Поплавская ЕвгенияМедв...</td>\n",
              "    </tr>\n",
              "    <tr>\n",
              "      <th>1</th>\n",
              "      <td>503385563</td>\n",
              "      <td>extreme</td>\n",
              "      <td>Возвращение в подземелье Треша 33 Эйфория тупо...</td>\n",
              "    </tr>\n",
              "    <tr>\n",
              "      <th>2</th>\n",
              "      <td>146016084</td>\n",
              "      <td>football</td>\n",
              "      <td>Лучшие чешские вратари – Доминик Доминатор Гаш...</td>\n",
              "    </tr>\n",
              "    <tr>\n",
              "      <th>3</th>\n",
              "      <td>933865449</td>\n",
              "      <td>boardgames</td>\n",
              "      <td>Rtokenoid Warhammer40k валрак решил нас подкор...</td>\n",
              "    </tr>\n",
              "    <tr>\n",
              "      <th>4</th>\n",
              "      <td>713550145</td>\n",
              "      <td>hockey</td>\n",
              "      <td>Шестеркин затаскивает Рейнджерс в финал Восточ...</td>\n",
              "    </tr>\n",
              "    <tr>\n",
              "      <th>...</th>\n",
              "      <td>...</td>\n",
              "      <td>...</td>\n",
              "      <td>...</td>\n",
              "    </tr>\n",
              "    <tr>\n",
              "      <th>38735</th>\n",
              "      <td>910636962</td>\n",
              "      <td>autosport</td>\n",
              "      <td>8 битная буря снова накрыла пикселями автомоби...</td>\n",
              "    </tr>\n",
              "    <tr>\n",
              "      <th>38736</th>\n",
              "      <td>669736851</td>\n",
              "      <td>autosport</td>\n",
              "      <td>Ира Сидоркова объясняет как сказалась на ее ма...</td>\n",
              "    </tr>\n",
              "    <tr>\n",
              "      <th>38737</th>\n",
              "      <td>558919241</td>\n",
              "      <td>tennis</td>\n",
              "      <td>24 я ракетка мира хорват Марин Чилич обыграл и...</td>\n",
              "    </tr>\n",
              "    <tr>\n",
              "      <th>38738</th>\n",
              "      <td>776944963</td>\n",
              "      <td>volleyball</td>\n",
              "      <td>Стал известен календарь мужской сборной России...</td>\n",
              "    </tr>\n",
              "    <tr>\n",
              "      <th>38739</th>\n",
              "      <td>577334983</td>\n",
              "      <td>hockey</td>\n",
              "      <td>Первенство ВХЛ. Первый этап Динамо Алтай Бн ЦС...</td>\n",
              "    </tr>\n",
              "  </tbody>\n",
              "</table>\n",
              "<p>38740 rows × 3 columns</p>\n",
              "</div>\n",
              "      <button class=\"colab-df-convert\" onclick=\"convertToInteractive('df-88d5f1e4-329d-42d1-a9da-7acb62947131')\"\n",
              "              title=\"Convert this dataframe to an interactive table.\"\n",
              "              style=\"display:none;\">\n",
              "        \n",
              "  <svg xmlns=\"http://www.w3.org/2000/svg\" height=\"24px\"viewBox=\"0 0 24 24\"\n",
              "       width=\"24px\">\n",
              "    <path d=\"M0 0h24v24H0V0z\" fill=\"none\"/>\n",
              "    <path d=\"M18.56 5.44l.94 2.06.94-2.06 2.06-.94-2.06-.94-.94-2.06-.94 2.06-2.06.94zm-11 1L8.5 8.5l.94-2.06 2.06-.94-2.06-.94L8.5 2.5l-.94 2.06-2.06.94zm10 10l.94 2.06.94-2.06 2.06-.94-2.06-.94-.94-2.06-.94 2.06-2.06.94z\"/><path d=\"M17.41 7.96l-1.37-1.37c-.4-.4-.92-.59-1.43-.59-.52 0-1.04.2-1.43.59L10.3 9.45l-7.72 7.72c-.78.78-.78 2.05 0 2.83L4 21.41c.39.39.9.59 1.41.59.51 0 1.02-.2 1.41-.59l7.78-7.78 2.81-2.81c.8-.78.8-2.07 0-2.86zM5.41 20L4 18.59l7.72-7.72 1.47 1.35L5.41 20z\"/>\n",
              "  </svg>\n",
              "      </button>\n",
              "      \n",
              "  <style>\n",
              "    .colab-df-container {\n",
              "      display:flex;\n",
              "      flex-wrap:wrap;\n",
              "      gap: 12px;\n",
              "    }\n",
              "\n",
              "    .colab-df-convert {\n",
              "      background-color: #E8F0FE;\n",
              "      border: none;\n",
              "      border-radius: 50%;\n",
              "      cursor: pointer;\n",
              "      display: none;\n",
              "      fill: #1967D2;\n",
              "      height: 32px;\n",
              "      padding: 0 0 0 0;\n",
              "      width: 32px;\n",
              "    }\n",
              "\n",
              "    .colab-df-convert:hover {\n",
              "      background-color: #E2EBFA;\n",
              "      box-shadow: 0px 1px 2px rgba(60, 64, 67, 0.3), 0px 1px 3px 1px rgba(60, 64, 67, 0.15);\n",
              "      fill: #174EA6;\n",
              "    }\n",
              "\n",
              "    [theme=dark] .colab-df-convert {\n",
              "      background-color: #3B4455;\n",
              "      fill: #D2E3FC;\n",
              "    }\n",
              "\n",
              "    [theme=dark] .colab-df-convert:hover {\n",
              "      background-color: #434B5C;\n",
              "      box-shadow: 0px 1px 3px 1px rgba(0, 0, 0, 0.15);\n",
              "      filter: drop-shadow(0px 1px 2px rgba(0, 0, 0, 0.3));\n",
              "      fill: #FFFFFF;\n",
              "    }\n",
              "  </style>\n",
              "\n",
              "      <script>\n",
              "        const buttonEl =\n",
              "          document.querySelector('#df-88d5f1e4-329d-42d1-a9da-7acb62947131 button.colab-df-convert');\n",
              "        buttonEl.style.display =\n",
              "          google.colab.kernel.accessAllowed ? 'block' : 'none';\n",
              "\n",
              "        async function convertToInteractive(key) {\n",
              "          const element = document.querySelector('#df-88d5f1e4-329d-42d1-a9da-7acb62947131');\n",
              "          const dataTable =\n",
              "            await google.colab.kernel.invokeFunction('convertToInteractive',\n",
              "                                                     [key], {});\n",
              "          if (!dataTable) return;\n",
              "\n",
              "          const docLinkHtml = 'Like what you see? Visit the ' +\n",
              "            '<a target=\"_blank\" href=https://colab.research.google.com/notebooks/data_table.ipynb>data table notebook</a>'\n",
              "            + ' to learn more about interactive tables.';\n",
              "          element.innerHTML = '';\n",
              "          dataTable['output_type'] = 'display_data';\n",
              "          await google.colab.output.renderOutput(dataTable, element);\n",
              "          const docLink = document.createElement('div');\n",
              "          docLink.innerHTML = docLinkHtml;\n",
              "          element.appendChild(docLink);\n",
              "        }\n",
              "      </script>\n",
              "    </div>\n",
              "  </div>\n",
              "  "
            ]
          },
          "metadata": {},
          "execution_count": 5
        }
      ]
    },
    {
      "cell_type": "code",
      "execution_count": 6,
      "metadata": {
        "colab": {
          "base_uri": "https://localhost:8080/",
          "height": 424
        },
        "id": "q8-kIkvE245f",
        "outputId": "f7e2f5c3-aeba-4bd1-e8b7-24acea186c92"
      },
      "outputs": [
        {
          "output_type": "execute_result",
          "data": {
            "text/plain": [
              "             oid                                               text\n",
              "0      749208109  СПОЧНО СООБЩЕСТВО ПРОДАЕТСЯ ЗА 1300Р ЗА ПОКУПК...\n",
              "1      452466036  Естественное восстановление после тяжелой трен...\n",
              "2      161038103  Тема нарядов продолжается Одна из британских ж...\n",
              "3      663621910  Привет Избранный. Ты спрашиваешь себя ЧТО здес...\n",
              "4      566255305  КОРОЛЬ ПЯТИСОТНИКОВ В ДЕЛЕ Андрей Рублев успеш...\n",
              "...          ...                                                ...\n",
              "26255  169728316  Выиграй коллекционный пазл по Wortokenoid of W...\n",
              "26256  279369911  Волейбол от первого лица Егора Пупынина переко...\n",
              "26257  600699419  Вы были когда нибудь на свидании где вам задав...\n",
              "26258  560223506  ТОП 20 самых эффективных общефизических упражн...\n",
              "26259  724673712  Присылайте ваши беговые фото в комментарии к э...\n",
              "\n",
              "[26260 rows x 2 columns]"
            ],
            "text/html": [
              "\n",
              "  <div id=\"df-1657222c-c3b5-4265-8fbb-b83ef8e18089\">\n",
              "    <div class=\"colab-df-container\">\n",
              "      <div>\n",
              "<style scoped>\n",
              "    .dataframe tbody tr th:only-of-type {\n",
              "        vertical-align: middle;\n",
              "    }\n",
              "\n",
              "    .dataframe tbody tr th {\n",
              "        vertical-align: top;\n",
              "    }\n",
              "\n",
              "    .dataframe thead th {\n",
              "        text-align: right;\n",
              "    }\n",
              "</style>\n",
              "<table border=\"1\" class=\"dataframe\">\n",
              "  <thead>\n",
              "    <tr style=\"text-align: right;\">\n",
              "      <th></th>\n",
              "      <th>oid</th>\n",
              "      <th>text</th>\n",
              "    </tr>\n",
              "  </thead>\n",
              "  <tbody>\n",
              "    <tr>\n",
              "      <th>0</th>\n",
              "      <td>749208109</td>\n",
              "      <td>СПОЧНО СООБЩЕСТВО ПРОДАЕТСЯ ЗА 1300Р ЗА ПОКУПК...</td>\n",
              "    </tr>\n",
              "    <tr>\n",
              "      <th>1</th>\n",
              "      <td>452466036</td>\n",
              "      <td>Естественное восстановление после тяжелой трен...</td>\n",
              "    </tr>\n",
              "    <tr>\n",
              "      <th>2</th>\n",
              "      <td>161038103</td>\n",
              "      <td>Тема нарядов продолжается Одна из британских ж...</td>\n",
              "    </tr>\n",
              "    <tr>\n",
              "      <th>3</th>\n",
              "      <td>663621910</td>\n",
              "      <td>Привет Избранный. Ты спрашиваешь себя ЧТО здес...</td>\n",
              "    </tr>\n",
              "    <tr>\n",
              "      <th>4</th>\n",
              "      <td>566255305</td>\n",
              "      <td>КОРОЛЬ ПЯТИСОТНИКОВ В ДЕЛЕ Андрей Рублев успеш...</td>\n",
              "    </tr>\n",
              "    <tr>\n",
              "      <th>...</th>\n",
              "      <td>...</td>\n",
              "      <td>...</td>\n",
              "    </tr>\n",
              "    <tr>\n",
              "      <th>26255</th>\n",
              "      <td>169728316</td>\n",
              "      <td>Выиграй коллекционный пазл по Wortokenoid of W...</td>\n",
              "    </tr>\n",
              "    <tr>\n",
              "      <th>26256</th>\n",
              "      <td>279369911</td>\n",
              "      <td>Волейбол от первого лица Егора Пупынина переко...</td>\n",
              "    </tr>\n",
              "    <tr>\n",
              "      <th>26257</th>\n",
              "      <td>600699419</td>\n",
              "      <td>Вы были когда нибудь на свидании где вам задав...</td>\n",
              "    </tr>\n",
              "    <tr>\n",
              "      <th>26258</th>\n",
              "      <td>560223506</td>\n",
              "      <td>ТОП 20 самых эффективных общефизических упражн...</td>\n",
              "    </tr>\n",
              "    <tr>\n",
              "      <th>26259</th>\n",
              "      <td>724673712</td>\n",
              "      <td>Присылайте ваши беговые фото в комментарии к э...</td>\n",
              "    </tr>\n",
              "  </tbody>\n",
              "</table>\n",
              "<p>26260 rows × 2 columns</p>\n",
              "</div>\n",
              "      <button class=\"colab-df-convert\" onclick=\"convertToInteractive('df-1657222c-c3b5-4265-8fbb-b83ef8e18089')\"\n",
              "              title=\"Convert this dataframe to an interactive table.\"\n",
              "              style=\"display:none;\">\n",
              "        \n",
              "  <svg xmlns=\"http://www.w3.org/2000/svg\" height=\"24px\"viewBox=\"0 0 24 24\"\n",
              "       width=\"24px\">\n",
              "    <path d=\"M0 0h24v24H0V0z\" fill=\"none\"/>\n",
              "    <path d=\"M18.56 5.44l.94 2.06.94-2.06 2.06-.94-2.06-.94-.94-2.06-.94 2.06-2.06.94zm-11 1L8.5 8.5l.94-2.06 2.06-.94-2.06-.94L8.5 2.5l-.94 2.06-2.06.94zm10 10l.94 2.06.94-2.06 2.06-.94-2.06-.94-.94-2.06-.94 2.06-2.06.94z\"/><path d=\"M17.41 7.96l-1.37-1.37c-.4-.4-.92-.59-1.43-.59-.52 0-1.04.2-1.43.59L10.3 9.45l-7.72 7.72c-.78.78-.78 2.05 0 2.83L4 21.41c.39.39.9.59 1.41.59.51 0 1.02-.2 1.41-.59l7.78-7.78 2.81-2.81c.8-.78.8-2.07 0-2.86zM5.41 20L4 18.59l7.72-7.72 1.47 1.35L5.41 20z\"/>\n",
              "  </svg>\n",
              "      </button>\n",
              "      \n",
              "  <style>\n",
              "    .colab-df-container {\n",
              "      display:flex;\n",
              "      flex-wrap:wrap;\n",
              "      gap: 12px;\n",
              "    }\n",
              "\n",
              "    .colab-df-convert {\n",
              "      background-color: #E8F0FE;\n",
              "      border: none;\n",
              "      border-radius: 50%;\n",
              "      cursor: pointer;\n",
              "      display: none;\n",
              "      fill: #1967D2;\n",
              "      height: 32px;\n",
              "      padding: 0 0 0 0;\n",
              "      width: 32px;\n",
              "    }\n",
              "\n",
              "    .colab-df-convert:hover {\n",
              "      background-color: #E2EBFA;\n",
              "      box-shadow: 0px 1px 2px rgba(60, 64, 67, 0.3), 0px 1px 3px 1px rgba(60, 64, 67, 0.15);\n",
              "      fill: #174EA6;\n",
              "    }\n",
              "\n",
              "    [theme=dark] .colab-df-convert {\n",
              "      background-color: #3B4455;\n",
              "      fill: #D2E3FC;\n",
              "    }\n",
              "\n",
              "    [theme=dark] .colab-df-convert:hover {\n",
              "      background-color: #434B5C;\n",
              "      box-shadow: 0px 1px 3px 1px rgba(0, 0, 0, 0.15);\n",
              "      filter: drop-shadow(0px 1px 2px rgba(0, 0, 0, 0.3));\n",
              "      fill: #FFFFFF;\n",
              "    }\n",
              "  </style>\n",
              "\n",
              "      <script>\n",
              "        const buttonEl =\n",
              "          document.querySelector('#df-1657222c-c3b5-4265-8fbb-b83ef8e18089 button.colab-df-convert');\n",
              "        buttonEl.style.display =\n",
              "          google.colab.kernel.accessAllowed ? 'block' : 'none';\n",
              "\n",
              "        async function convertToInteractive(key) {\n",
              "          const element = document.querySelector('#df-1657222c-c3b5-4265-8fbb-b83ef8e18089');\n",
              "          const dataTable =\n",
              "            await google.colab.kernel.invokeFunction('convertToInteractive',\n",
              "                                                     [key], {});\n",
              "          if (!dataTable) return;\n",
              "\n",
              "          const docLinkHtml = 'Like what you see? Visit the ' +\n",
              "            '<a target=\"_blank\" href=https://colab.research.google.com/notebooks/data_table.ipynb>data table notebook</a>'\n",
              "            + ' to learn more about interactive tables.';\n",
              "          element.innerHTML = '';\n",
              "          dataTable['output_type'] = 'display_data';\n",
              "          await google.colab.output.renderOutput(dataTable, element);\n",
              "          const docLink = document.createElement('div');\n",
              "          docLink.innerHTML = docLinkHtml;\n",
              "          element.appendChild(docLink);\n",
              "        }\n",
              "      </script>\n",
              "    </div>\n",
              "  </div>\n",
              "  "
            ]
          },
          "metadata": {},
          "execution_count": 6
        }
      ],
      "source": [
        "pd_test=pd.read_csv('test.csv')\n",
        "pd_test"
      ]
    },
    {
      "cell_type": "markdown",
      "source": [
        "**Group data by same \"oid\" values**\n",
        "ₙCategory\" values is same for same \"oid\" and i took min(), and \"text\" are merged"
      ],
      "metadata": {
        "id": "882MrKzZGK0Y"
      }
    },
    {
      "cell_type": "code",
      "source": [
        "gr=pd_train.groupby(by=['oid']).agg({'category':'min','text':' '.join})\n",
        "pd_train_gr=pd.DataFrame(gr).reset_index()\n",
        "pd_train_gr"
      ],
      "metadata": {
        "colab": {
          "base_uri": "https://localhost:8080/",
          "height": 424
        },
        "id": "IxdtU8ifF4Y8",
        "outputId": "104d3715-0b04-4fa1-cf67-48d8bafa8e15"
      },
      "execution_count": 7,
      "outputs": [
        {
          "output_type": "execute_result",
          "data": {
            "text/plain": [
              "            oid      category  \\\n",
              "0         16594       extreme   \n",
              "1         66573  winter_sport   \n",
              "2         84576     autosport   \n",
              "3        203396       extreme   \n",
              "4        621640     athletics   \n",
              "...         ...           ...   \n",
              "3869  998385654    volleyball   \n",
              "3870  999156041    boardgames   \n",
              "3871  999377741    volleyball   \n",
              "3872  999704370        hockey   \n",
              "3873  999711263     motosport   \n",
              "\n",
              "                                                   text  \n",
              "0     Пост для обсуждения наболевшего по китайским ф...  \n",
              "1     Паралимпийский комитет России намерен сделать ...  \n",
              "2     В FIA утвердили регламент на моторы Всемирный ...  \n",
              "3     От чего у мужчины зависит размер кулаков? ? ? ...  \n",
              "4     Всем бег друзья 33 Marat Satokenoid делисьбего...  \n",
              "...                                                 ...  \n",
              "3869  Знаете ли вы историю возникновения пляжного во...  \n",
              "3870  Поделимся с вами хорошо написанными и оформлен...  \n",
              "3871  День не задался Пошла играть в волейбол и влет...  \n",
              "3872  Воспитанники ДЮСШ Лада возложили цветы к Вечно...  \n",
              "3873  Переход Moto3 на 500 куб. см? Президент IRTA Э...  \n",
              "\n",
              "[3874 rows x 3 columns]"
            ],
            "text/html": [
              "\n",
              "  <div id=\"df-fa28945f-6368-4922-8106-0ad8481b913d\">\n",
              "    <div class=\"colab-df-container\">\n",
              "      <div>\n",
              "<style scoped>\n",
              "    .dataframe tbody tr th:only-of-type {\n",
              "        vertical-align: middle;\n",
              "    }\n",
              "\n",
              "    .dataframe tbody tr th {\n",
              "        vertical-align: top;\n",
              "    }\n",
              "\n",
              "    .dataframe thead th {\n",
              "        text-align: right;\n",
              "    }\n",
              "</style>\n",
              "<table border=\"1\" class=\"dataframe\">\n",
              "  <thead>\n",
              "    <tr style=\"text-align: right;\">\n",
              "      <th></th>\n",
              "      <th>oid</th>\n",
              "      <th>category</th>\n",
              "      <th>text</th>\n",
              "    </tr>\n",
              "  </thead>\n",
              "  <tbody>\n",
              "    <tr>\n",
              "      <th>0</th>\n",
              "      <td>16594</td>\n",
              "      <td>extreme</td>\n",
              "      <td>Пост для обсуждения наболевшего по китайским ф...</td>\n",
              "    </tr>\n",
              "    <tr>\n",
              "      <th>1</th>\n",
              "      <td>66573</td>\n",
              "      <td>winter_sport</td>\n",
              "      <td>Паралимпийский комитет России намерен сделать ...</td>\n",
              "    </tr>\n",
              "    <tr>\n",
              "      <th>2</th>\n",
              "      <td>84576</td>\n",
              "      <td>autosport</td>\n",
              "      <td>В FIA утвердили регламент на моторы Всемирный ...</td>\n",
              "    </tr>\n",
              "    <tr>\n",
              "      <th>3</th>\n",
              "      <td>203396</td>\n",
              "      <td>extreme</td>\n",
              "      <td>От чего у мужчины зависит размер кулаков? ? ? ...</td>\n",
              "    </tr>\n",
              "    <tr>\n",
              "      <th>4</th>\n",
              "      <td>621640</td>\n",
              "      <td>athletics</td>\n",
              "      <td>Всем бег друзья 33 Marat Satokenoid делисьбего...</td>\n",
              "    </tr>\n",
              "    <tr>\n",
              "      <th>...</th>\n",
              "      <td>...</td>\n",
              "      <td>...</td>\n",
              "      <td>...</td>\n",
              "    </tr>\n",
              "    <tr>\n",
              "      <th>3869</th>\n",
              "      <td>998385654</td>\n",
              "      <td>volleyball</td>\n",
              "      <td>Знаете ли вы историю возникновения пляжного во...</td>\n",
              "    </tr>\n",
              "    <tr>\n",
              "      <th>3870</th>\n",
              "      <td>999156041</td>\n",
              "      <td>boardgames</td>\n",
              "      <td>Поделимся с вами хорошо написанными и оформлен...</td>\n",
              "    </tr>\n",
              "    <tr>\n",
              "      <th>3871</th>\n",
              "      <td>999377741</td>\n",
              "      <td>volleyball</td>\n",
              "      <td>День не задался Пошла играть в волейбол и влет...</td>\n",
              "    </tr>\n",
              "    <tr>\n",
              "      <th>3872</th>\n",
              "      <td>999704370</td>\n",
              "      <td>hockey</td>\n",
              "      <td>Воспитанники ДЮСШ Лада возложили цветы к Вечно...</td>\n",
              "    </tr>\n",
              "    <tr>\n",
              "      <th>3873</th>\n",
              "      <td>999711263</td>\n",
              "      <td>motosport</td>\n",
              "      <td>Переход Moto3 на 500 куб. см? Президент IRTA Э...</td>\n",
              "    </tr>\n",
              "  </tbody>\n",
              "</table>\n",
              "<p>3874 rows × 3 columns</p>\n",
              "</div>\n",
              "      <button class=\"colab-df-convert\" onclick=\"convertToInteractive('df-fa28945f-6368-4922-8106-0ad8481b913d')\"\n",
              "              title=\"Convert this dataframe to an interactive table.\"\n",
              "              style=\"display:none;\">\n",
              "        \n",
              "  <svg xmlns=\"http://www.w3.org/2000/svg\" height=\"24px\"viewBox=\"0 0 24 24\"\n",
              "       width=\"24px\">\n",
              "    <path d=\"M0 0h24v24H0V0z\" fill=\"none\"/>\n",
              "    <path d=\"M18.56 5.44l.94 2.06.94-2.06 2.06-.94-2.06-.94-.94-2.06-.94 2.06-2.06.94zm-11 1L8.5 8.5l.94-2.06 2.06-.94-2.06-.94L8.5 2.5l-.94 2.06-2.06.94zm10 10l.94 2.06.94-2.06 2.06-.94-2.06-.94-.94-2.06-.94 2.06-2.06.94z\"/><path d=\"M17.41 7.96l-1.37-1.37c-.4-.4-.92-.59-1.43-.59-.52 0-1.04.2-1.43.59L10.3 9.45l-7.72 7.72c-.78.78-.78 2.05 0 2.83L4 21.41c.39.39.9.59 1.41.59.51 0 1.02-.2 1.41-.59l7.78-7.78 2.81-2.81c.8-.78.8-2.07 0-2.86zM5.41 20L4 18.59l7.72-7.72 1.47 1.35L5.41 20z\"/>\n",
              "  </svg>\n",
              "      </button>\n",
              "      \n",
              "  <style>\n",
              "    .colab-df-container {\n",
              "      display:flex;\n",
              "      flex-wrap:wrap;\n",
              "      gap: 12px;\n",
              "    }\n",
              "\n",
              "    .colab-df-convert {\n",
              "      background-color: #E8F0FE;\n",
              "      border: none;\n",
              "      border-radius: 50%;\n",
              "      cursor: pointer;\n",
              "      display: none;\n",
              "      fill: #1967D2;\n",
              "      height: 32px;\n",
              "      padding: 0 0 0 0;\n",
              "      width: 32px;\n",
              "    }\n",
              "\n",
              "    .colab-df-convert:hover {\n",
              "      background-color: #E2EBFA;\n",
              "      box-shadow: 0px 1px 2px rgba(60, 64, 67, 0.3), 0px 1px 3px 1px rgba(60, 64, 67, 0.15);\n",
              "      fill: #174EA6;\n",
              "    }\n",
              "\n",
              "    [theme=dark] .colab-df-convert {\n",
              "      background-color: #3B4455;\n",
              "      fill: #D2E3FC;\n",
              "    }\n",
              "\n",
              "    [theme=dark] .colab-df-convert:hover {\n",
              "      background-color: #434B5C;\n",
              "      box-shadow: 0px 1px 3px 1px rgba(0, 0, 0, 0.15);\n",
              "      filter: drop-shadow(0px 1px 2px rgba(0, 0, 0, 0.3));\n",
              "      fill: #FFFFFF;\n",
              "    }\n",
              "  </style>\n",
              "\n",
              "      <script>\n",
              "        const buttonEl =\n",
              "          document.querySelector('#df-fa28945f-6368-4922-8106-0ad8481b913d button.colab-df-convert');\n",
              "        buttonEl.style.display =\n",
              "          google.colab.kernel.accessAllowed ? 'block' : 'none';\n",
              "\n",
              "        async function convertToInteractive(key) {\n",
              "          const element = document.querySelector('#df-fa28945f-6368-4922-8106-0ad8481b913d');\n",
              "          const dataTable =\n",
              "            await google.colab.kernel.invokeFunction('convertToInteractive',\n",
              "                                                     [key], {});\n",
              "          if (!dataTable) return;\n",
              "\n",
              "          const docLinkHtml = 'Like what you see? Visit the ' +\n",
              "            '<a target=\"_blank\" href=https://colab.research.google.com/notebooks/data_table.ipynb>data table notebook</a>'\n",
              "            + ' to learn more about interactive tables.';\n",
              "          element.innerHTML = '';\n",
              "          dataTable['output_type'] = 'display_data';\n",
              "          await google.colab.output.renderOutput(dataTable, element);\n",
              "          const docLink = document.createElement('div');\n",
              "          docLink.innerHTML = docLinkHtml;\n",
              "          element.appendChild(docLink);\n",
              "        }\n",
              "      </script>\n",
              "    </div>\n",
              "  </div>\n",
              "  "
            ]
          },
          "metadata": {},
          "execution_count": 7
        }
      ]
    },
    {
      "cell_type": "code",
      "source": [
        "gr=pd_test.groupby(by=['oid'],group_keys=False)['text'].agg(' '.join)\n",
        "pd_test_gr=pd.DataFrame(gr.to_frame().reset_index())\n",
        "pd_test_gr"
      ],
      "metadata": {
        "colab": {
          "base_uri": "https://localhost:8080/",
          "height": 424
        },
        "id": "xdvi85ePF2eu",
        "outputId": "3ad64ff3-46ec-4d82-b752-faf77e1398c6"
      },
      "execution_count": 8,
      "outputs": [
        {
          "output_type": "execute_result",
          "data": {
            "text/plain": [
              "            oid                                               text\n",
              "0       1622114  Нет ничего более стимулирующего чем когда все ...\n",
              "1       1663817  Радиопереговоры Пьера Гасли в момент аварии с ...\n",
              "2       3174332  Сет Карри вылавливает сложный мяч и забивает и...\n",
              "3       3469228  Всем привет 33 Взяла 44. 000 рублей на 6 месяц...\n",
              "4       3905302  Российский гроссмейстер Сергей Карякин заявил ...\n",
              "...         ...                                                ...\n",
              "2621  998309713  Типичный день в ТРАЙХАРД Ждешь новые серии? me...\n",
              "2622  998565619  Как этот игрок залез на товарища если тот даже...\n",
              "2623  999112505  Всего пара недель осталась до завершения кампа...\n",
              "2624  999361308  Дарья Касаткина в соцсетях ﻿отреагировала на в...\n",
              "2625  999374432  Добрый день 33 ️ На сегодня есть несколько игр...\n",
              "\n",
              "[2626 rows x 2 columns]"
            ],
            "text/html": [
              "\n",
              "  <div id=\"df-c36c7932-0b3d-4469-9db3-7019609cd8e1\">\n",
              "    <div class=\"colab-df-container\">\n",
              "      <div>\n",
              "<style scoped>\n",
              "    .dataframe tbody tr th:only-of-type {\n",
              "        vertical-align: middle;\n",
              "    }\n",
              "\n",
              "    .dataframe tbody tr th {\n",
              "        vertical-align: top;\n",
              "    }\n",
              "\n",
              "    .dataframe thead th {\n",
              "        text-align: right;\n",
              "    }\n",
              "</style>\n",
              "<table border=\"1\" class=\"dataframe\">\n",
              "  <thead>\n",
              "    <tr style=\"text-align: right;\">\n",
              "      <th></th>\n",
              "      <th>oid</th>\n",
              "      <th>text</th>\n",
              "    </tr>\n",
              "  </thead>\n",
              "  <tbody>\n",
              "    <tr>\n",
              "      <th>0</th>\n",
              "      <td>1622114</td>\n",
              "      <td>Нет ничего более стимулирующего чем когда все ...</td>\n",
              "    </tr>\n",
              "    <tr>\n",
              "      <th>1</th>\n",
              "      <td>1663817</td>\n",
              "      <td>Радиопереговоры Пьера Гасли в момент аварии с ...</td>\n",
              "    </tr>\n",
              "    <tr>\n",
              "      <th>2</th>\n",
              "      <td>3174332</td>\n",
              "      <td>Сет Карри вылавливает сложный мяч и забивает и...</td>\n",
              "    </tr>\n",
              "    <tr>\n",
              "      <th>3</th>\n",
              "      <td>3469228</td>\n",
              "      <td>Всем привет 33 Взяла 44. 000 рублей на 6 месяц...</td>\n",
              "    </tr>\n",
              "    <tr>\n",
              "      <th>4</th>\n",
              "      <td>3905302</td>\n",
              "      <td>Российский гроссмейстер Сергей Карякин заявил ...</td>\n",
              "    </tr>\n",
              "    <tr>\n",
              "      <th>...</th>\n",
              "      <td>...</td>\n",
              "      <td>...</td>\n",
              "    </tr>\n",
              "    <tr>\n",
              "      <th>2621</th>\n",
              "      <td>998309713</td>\n",
              "      <td>Типичный день в ТРАЙХАРД Ждешь новые серии? me...</td>\n",
              "    </tr>\n",
              "    <tr>\n",
              "      <th>2622</th>\n",
              "      <td>998565619</td>\n",
              "      <td>Как этот игрок залез на товарища если тот даже...</td>\n",
              "    </tr>\n",
              "    <tr>\n",
              "      <th>2623</th>\n",
              "      <td>999112505</td>\n",
              "      <td>Всего пара недель осталась до завершения кампа...</td>\n",
              "    </tr>\n",
              "    <tr>\n",
              "      <th>2624</th>\n",
              "      <td>999361308</td>\n",
              "      <td>Дарья Касаткина в соцсетях ﻿отреагировала на в...</td>\n",
              "    </tr>\n",
              "    <tr>\n",
              "      <th>2625</th>\n",
              "      <td>999374432</td>\n",
              "      <td>Добрый день 33 ️ На сегодня есть несколько игр...</td>\n",
              "    </tr>\n",
              "  </tbody>\n",
              "</table>\n",
              "<p>2626 rows × 2 columns</p>\n",
              "</div>\n",
              "      <button class=\"colab-df-convert\" onclick=\"convertToInteractive('df-c36c7932-0b3d-4469-9db3-7019609cd8e1')\"\n",
              "              title=\"Convert this dataframe to an interactive table.\"\n",
              "              style=\"display:none;\">\n",
              "        \n",
              "  <svg xmlns=\"http://www.w3.org/2000/svg\" height=\"24px\"viewBox=\"0 0 24 24\"\n",
              "       width=\"24px\">\n",
              "    <path d=\"M0 0h24v24H0V0z\" fill=\"none\"/>\n",
              "    <path d=\"M18.56 5.44l.94 2.06.94-2.06 2.06-.94-2.06-.94-.94-2.06-.94 2.06-2.06.94zm-11 1L8.5 8.5l.94-2.06 2.06-.94-2.06-.94L8.5 2.5l-.94 2.06-2.06.94zm10 10l.94 2.06.94-2.06 2.06-.94-2.06-.94-.94-2.06-.94 2.06-2.06.94z\"/><path d=\"M17.41 7.96l-1.37-1.37c-.4-.4-.92-.59-1.43-.59-.52 0-1.04.2-1.43.59L10.3 9.45l-7.72 7.72c-.78.78-.78 2.05 0 2.83L4 21.41c.39.39.9.59 1.41.59.51 0 1.02-.2 1.41-.59l7.78-7.78 2.81-2.81c.8-.78.8-2.07 0-2.86zM5.41 20L4 18.59l7.72-7.72 1.47 1.35L5.41 20z\"/>\n",
              "  </svg>\n",
              "      </button>\n",
              "      \n",
              "  <style>\n",
              "    .colab-df-container {\n",
              "      display:flex;\n",
              "      flex-wrap:wrap;\n",
              "      gap: 12px;\n",
              "    }\n",
              "\n",
              "    .colab-df-convert {\n",
              "      background-color: #E8F0FE;\n",
              "      border: none;\n",
              "      border-radius: 50%;\n",
              "      cursor: pointer;\n",
              "      display: none;\n",
              "      fill: #1967D2;\n",
              "      height: 32px;\n",
              "      padding: 0 0 0 0;\n",
              "      width: 32px;\n",
              "    }\n",
              "\n",
              "    .colab-df-convert:hover {\n",
              "      background-color: #E2EBFA;\n",
              "      box-shadow: 0px 1px 2px rgba(60, 64, 67, 0.3), 0px 1px 3px 1px rgba(60, 64, 67, 0.15);\n",
              "      fill: #174EA6;\n",
              "    }\n",
              "\n",
              "    [theme=dark] .colab-df-convert {\n",
              "      background-color: #3B4455;\n",
              "      fill: #D2E3FC;\n",
              "    }\n",
              "\n",
              "    [theme=dark] .colab-df-convert:hover {\n",
              "      background-color: #434B5C;\n",
              "      box-shadow: 0px 1px 3px 1px rgba(0, 0, 0, 0.15);\n",
              "      filter: drop-shadow(0px 1px 2px rgba(0, 0, 0, 0.3));\n",
              "      fill: #FFFFFF;\n",
              "    }\n",
              "  </style>\n",
              "\n",
              "      <script>\n",
              "        const buttonEl =\n",
              "          document.querySelector('#df-c36c7932-0b3d-4469-9db3-7019609cd8e1 button.colab-df-convert');\n",
              "        buttonEl.style.display =\n",
              "          google.colab.kernel.accessAllowed ? 'block' : 'none';\n",
              "\n",
              "        async function convertToInteractive(key) {\n",
              "          const element = document.querySelector('#df-c36c7932-0b3d-4469-9db3-7019609cd8e1');\n",
              "          const dataTable =\n",
              "            await google.colab.kernel.invokeFunction('convertToInteractive',\n",
              "                                                     [key], {});\n",
              "          if (!dataTable) return;\n",
              "\n",
              "          const docLinkHtml = 'Like what you see? Visit the ' +\n",
              "            '<a target=\"_blank\" href=https://colab.research.google.com/notebooks/data_table.ipynb>data table notebook</a>'\n",
              "            + ' to learn more about interactive tables.';\n",
              "          element.innerHTML = '';\n",
              "          dataTable['output_type'] = 'display_data';\n",
              "          await google.colab.output.renderOutput(dataTable, element);\n",
              "          const docLink = document.createElement('div');\n",
              "          docLink.innerHTML = docLinkHtml;\n",
              "          element.appendChild(docLink);\n",
              "        }\n",
              "      </script>\n",
              "    </div>\n",
              "  </div>\n",
              "  "
            ]
          },
          "metadata": {},
          "execution_count": 8
        }
      ]
    },
    {
      "cell_type": "markdown",
      "source": [
        "**Clean punctuation and stopwords. Change to lower case and lemmatize words in text.**"
      ],
      "metadata": {
        "id": "gTlO_9zfHrVB"
      }
    },
    {
      "cell_type": "code",
      "source": [
        "russian_stopwords = stopwords.words(\"russian\")\n",
        "lemma = pymorphy2.MorphAnalyzer()\n",
        "\n",
        "def preprocess_text(doc):\n",
        "    trans_table = str.maketrans({}.fromkeys(string.punctuation))\n",
        "    text=doc.translate(trans_table).lower()    \n",
        "    list_text = [lemma.parse(i)[0].normal_form for i in text.split() if (i not in russian_stopwords) and len(i)>1]\n",
        "    text = \" \".join([i.strip() for i in list_text if (i not in russian_stopwords) and len(i)>1 ])\n",
        "    return text"
      ],
      "metadata": {
        "id": "eJvDYEDwDtdL"
      },
      "execution_count": 9,
      "outputs": []
    },
    {
      "cell_type": "code",
      "source": [
        "pd_train_res=pd_train_gr.copy()\n",
        "pd_train_res.text=pd_train_res.text.apply(preprocess_text)\n",
        "pd_train_res"
      ],
      "metadata": {
        "colab": {
          "base_uri": "https://localhost:8080/",
          "height": 424
        },
        "id": "F8hB_JfIEJoo",
        "outputId": "9f18ad7a-a1fd-4a59-c6ad-cfd626180995"
      },
      "execution_count": 10,
      "outputs": [
        {
          "output_type": "execute_result",
          "data": {
            "text/plain": [
              "            oid      category  \\\n",
              "0         16594       extreme   \n",
              "1         66573  winter_sport   \n",
              "2         84576     autosport   \n",
              "3        203396       extreme   \n",
              "4        621640     athletics   \n",
              "...         ...           ...   \n",
              "3869  998385654    volleyball   \n",
              "3870  999156041    boardgames   \n",
              "3871  999377741    volleyball   \n",
              "3872  999704370        hockey   \n",
              "3873  999711263     motosport   \n",
              "\n",
              "                                                   text  \n",
              "0     пост обсуждение наболевший китайский фандом не...  \n",
              "1     паралимпийский комитет россия намеренный сдела...  \n",
              "2     fia утвердить регламент мотор всемирный совет ...  \n",
              "3     мужчина зависеть размер кулак кулак издревле с...  \n",
              "4     весь бег друг 33 marat satokenoid делисьбегом ...  \n",
              "...                                                 ...  \n",
              "3869  знать история возникновение пляжный волейбол п...  \n",
              "3870  поделиться написать оформить отчёт игра которы...  \n",
              "3871  день задаться пойти играть волейбол влететь че...  \n",
              "3872  воспитанник дюсш лада возложить цветок вечный ...  \n",
              "3873  переход moto3 500 куб смотреть президент irta ...  \n",
              "\n",
              "[3874 rows x 3 columns]"
            ],
            "text/html": [
              "\n",
              "  <div id=\"df-f2084235-7b2d-447a-b8e2-412cdfc275e4\">\n",
              "    <div class=\"colab-df-container\">\n",
              "      <div>\n",
              "<style scoped>\n",
              "    .dataframe tbody tr th:only-of-type {\n",
              "        vertical-align: middle;\n",
              "    }\n",
              "\n",
              "    .dataframe tbody tr th {\n",
              "        vertical-align: top;\n",
              "    }\n",
              "\n",
              "    .dataframe thead th {\n",
              "        text-align: right;\n",
              "    }\n",
              "</style>\n",
              "<table border=\"1\" class=\"dataframe\">\n",
              "  <thead>\n",
              "    <tr style=\"text-align: right;\">\n",
              "      <th></th>\n",
              "      <th>oid</th>\n",
              "      <th>category</th>\n",
              "      <th>text</th>\n",
              "    </tr>\n",
              "  </thead>\n",
              "  <tbody>\n",
              "    <tr>\n",
              "      <th>0</th>\n",
              "      <td>16594</td>\n",
              "      <td>extreme</td>\n",
              "      <td>пост обсуждение наболевший китайский фандом не...</td>\n",
              "    </tr>\n",
              "    <tr>\n",
              "      <th>1</th>\n",
              "      <td>66573</td>\n",
              "      <td>winter_sport</td>\n",
              "      <td>паралимпийский комитет россия намеренный сдела...</td>\n",
              "    </tr>\n",
              "    <tr>\n",
              "      <th>2</th>\n",
              "      <td>84576</td>\n",
              "      <td>autosport</td>\n",
              "      <td>fia утвердить регламент мотор всемирный совет ...</td>\n",
              "    </tr>\n",
              "    <tr>\n",
              "      <th>3</th>\n",
              "      <td>203396</td>\n",
              "      <td>extreme</td>\n",
              "      <td>мужчина зависеть размер кулак кулак издревле с...</td>\n",
              "    </tr>\n",
              "    <tr>\n",
              "      <th>4</th>\n",
              "      <td>621640</td>\n",
              "      <td>athletics</td>\n",
              "      <td>весь бег друг 33 marat satokenoid делисьбегом ...</td>\n",
              "    </tr>\n",
              "    <tr>\n",
              "      <th>...</th>\n",
              "      <td>...</td>\n",
              "      <td>...</td>\n",
              "      <td>...</td>\n",
              "    </tr>\n",
              "    <tr>\n",
              "      <th>3869</th>\n",
              "      <td>998385654</td>\n",
              "      <td>volleyball</td>\n",
              "      <td>знать история возникновение пляжный волейбол п...</td>\n",
              "    </tr>\n",
              "    <tr>\n",
              "      <th>3870</th>\n",
              "      <td>999156041</td>\n",
              "      <td>boardgames</td>\n",
              "      <td>поделиться написать оформить отчёт игра которы...</td>\n",
              "    </tr>\n",
              "    <tr>\n",
              "      <th>3871</th>\n",
              "      <td>999377741</td>\n",
              "      <td>volleyball</td>\n",
              "      <td>день задаться пойти играть волейбол влететь че...</td>\n",
              "    </tr>\n",
              "    <tr>\n",
              "      <th>3872</th>\n",
              "      <td>999704370</td>\n",
              "      <td>hockey</td>\n",
              "      <td>воспитанник дюсш лада возложить цветок вечный ...</td>\n",
              "    </tr>\n",
              "    <tr>\n",
              "      <th>3873</th>\n",
              "      <td>999711263</td>\n",
              "      <td>motosport</td>\n",
              "      <td>переход moto3 500 куб смотреть президент irta ...</td>\n",
              "    </tr>\n",
              "  </tbody>\n",
              "</table>\n",
              "<p>3874 rows × 3 columns</p>\n",
              "</div>\n",
              "      <button class=\"colab-df-convert\" onclick=\"convertToInteractive('df-f2084235-7b2d-447a-b8e2-412cdfc275e4')\"\n",
              "              title=\"Convert this dataframe to an interactive table.\"\n",
              "              style=\"display:none;\">\n",
              "        \n",
              "  <svg xmlns=\"http://www.w3.org/2000/svg\" height=\"24px\"viewBox=\"0 0 24 24\"\n",
              "       width=\"24px\">\n",
              "    <path d=\"M0 0h24v24H0V0z\" fill=\"none\"/>\n",
              "    <path d=\"M18.56 5.44l.94 2.06.94-2.06 2.06-.94-2.06-.94-.94-2.06-.94 2.06-2.06.94zm-11 1L8.5 8.5l.94-2.06 2.06-.94-2.06-.94L8.5 2.5l-.94 2.06-2.06.94zm10 10l.94 2.06.94-2.06 2.06-.94-2.06-.94-.94-2.06-.94 2.06-2.06.94z\"/><path d=\"M17.41 7.96l-1.37-1.37c-.4-.4-.92-.59-1.43-.59-.52 0-1.04.2-1.43.59L10.3 9.45l-7.72 7.72c-.78.78-.78 2.05 0 2.83L4 21.41c.39.39.9.59 1.41.59.51 0 1.02-.2 1.41-.59l7.78-7.78 2.81-2.81c.8-.78.8-2.07 0-2.86zM5.41 20L4 18.59l7.72-7.72 1.47 1.35L5.41 20z\"/>\n",
              "  </svg>\n",
              "      </button>\n",
              "      \n",
              "  <style>\n",
              "    .colab-df-container {\n",
              "      display:flex;\n",
              "      flex-wrap:wrap;\n",
              "      gap: 12px;\n",
              "    }\n",
              "\n",
              "    .colab-df-convert {\n",
              "      background-color: #E8F0FE;\n",
              "      border: none;\n",
              "      border-radius: 50%;\n",
              "      cursor: pointer;\n",
              "      display: none;\n",
              "      fill: #1967D2;\n",
              "      height: 32px;\n",
              "      padding: 0 0 0 0;\n",
              "      width: 32px;\n",
              "    }\n",
              "\n",
              "    .colab-df-convert:hover {\n",
              "      background-color: #E2EBFA;\n",
              "      box-shadow: 0px 1px 2px rgba(60, 64, 67, 0.3), 0px 1px 3px 1px rgba(60, 64, 67, 0.15);\n",
              "      fill: #174EA6;\n",
              "    }\n",
              "\n",
              "    [theme=dark] .colab-df-convert {\n",
              "      background-color: #3B4455;\n",
              "      fill: #D2E3FC;\n",
              "    }\n",
              "\n",
              "    [theme=dark] .colab-df-convert:hover {\n",
              "      background-color: #434B5C;\n",
              "      box-shadow: 0px 1px 3px 1px rgba(0, 0, 0, 0.15);\n",
              "      filter: drop-shadow(0px 1px 2px rgba(0, 0, 0, 0.3));\n",
              "      fill: #FFFFFF;\n",
              "    }\n",
              "  </style>\n",
              "\n",
              "      <script>\n",
              "        const buttonEl =\n",
              "          document.querySelector('#df-f2084235-7b2d-447a-b8e2-412cdfc275e4 button.colab-df-convert');\n",
              "        buttonEl.style.display =\n",
              "          google.colab.kernel.accessAllowed ? 'block' : 'none';\n",
              "\n",
              "        async function convertToInteractive(key) {\n",
              "          const element = document.querySelector('#df-f2084235-7b2d-447a-b8e2-412cdfc275e4');\n",
              "          const dataTable =\n",
              "            await google.colab.kernel.invokeFunction('convertToInteractive',\n",
              "                                                     [key], {});\n",
              "          if (!dataTable) return;\n",
              "\n",
              "          const docLinkHtml = 'Like what you see? Visit the ' +\n",
              "            '<a target=\"_blank\" href=https://colab.research.google.com/notebooks/data_table.ipynb>data table notebook</a>'\n",
              "            + ' to learn more about interactive tables.';\n",
              "          element.innerHTML = '';\n",
              "          dataTable['output_type'] = 'display_data';\n",
              "          await google.colab.output.renderOutput(dataTable, element);\n",
              "          const docLink = document.createElement('div');\n",
              "          docLink.innerHTML = docLinkHtml;\n",
              "          element.appendChild(docLink);\n",
              "        }\n",
              "      </script>\n",
              "    </div>\n",
              "  </div>\n",
              "  "
            ]
          },
          "metadata": {},
          "execution_count": 10
        }
      ]
    },
    {
      "cell_type": "code",
      "source": [
        "pd_test_res=pd_test_gr.copy()\n",
        "pd_test_res.text=pd_test_res.text.apply(preprocess_text)\n",
        "pd_test_res"
      ],
      "metadata": {
        "colab": {
          "base_uri": "https://localhost:8080/",
          "height": 424
        },
        "id": "CCPdFczEEM_O",
        "outputId": "ecc7bdee-75d0-4d33-b4af-5ecf24e65c1f"
      },
      "execution_count": 11,
      "outputs": [
        {
          "output_type": "execute_result",
          "data": {
            "text/plain": [
              "            oid                                               text\n",
              "0       1622114  стимулировать идти жить лёгкий атлетика пусть ...\n",
              "1       1663817  радиопереговоры пьер гаснуть момент авария рек...\n",
              "2       3174332  сет карри вылавливать сложный мяч забивать дуг...\n",
              "3       3469228  весь привет 33 взять 44 000 рубль месяц 33 оче...\n",
              "4       3905302  российский гроссмейстер сергей карякин заявить...\n",
              "...         ...                                                ...\n",
              "2621  998309713  типичный день трайхард ждать новый серия memes...\n",
              "2622  998565619  игрок залезть товарищ присесть xyp9x делать вы...\n",
              "2623  999112505  пара неделя остаться завершение кампания игра ...\n",
              "2624  999361308  дарья касаткин соцсеть ﻿отреагировать выход по...\n",
              "2625  999374432  добрый день 33 сегодня несколько игра кхл непл...\n",
              "\n",
              "[2626 rows x 2 columns]"
            ],
            "text/html": [
              "\n",
              "  <div id=\"df-fdafecb5-b672-47f6-b953-debade816aa2\">\n",
              "    <div class=\"colab-df-container\">\n",
              "      <div>\n",
              "<style scoped>\n",
              "    .dataframe tbody tr th:only-of-type {\n",
              "        vertical-align: middle;\n",
              "    }\n",
              "\n",
              "    .dataframe tbody tr th {\n",
              "        vertical-align: top;\n",
              "    }\n",
              "\n",
              "    .dataframe thead th {\n",
              "        text-align: right;\n",
              "    }\n",
              "</style>\n",
              "<table border=\"1\" class=\"dataframe\">\n",
              "  <thead>\n",
              "    <tr style=\"text-align: right;\">\n",
              "      <th></th>\n",
              "      <th>oid</th>\n",
              "      <th>text</th>\n",
              "    </tr>\n",
              "  </thead>\n",
              "  <tbody>\n",
              "    <tr>\n",
              "      <th>0</th>\n",
              "      <td>1622114</td>\n",
              "      <td>стимулировать идти жить лёгкий атлетика пусть ...</td>\n",
              "    </tr>\n",
              "    <tr>\n",
              "      <th>1</th>\n",
              "      <td>1663817</td>\n",
              "      <td>радиопереговоры пьер гаснуть момент авария рек...</td>\n",
              "    </tr>\n",
              "    <tr>\n",
              "      <th>2</th>\n",
              "      <td>3174332</td>\n",
              "      <td>сет карри вылавливать сложный мяч забивать дуг...</td>\n",
              "    </tr>\n",
              "    <tr>\n",
              "      <th>3</th>\n",
              "      <td>3469228</td>\n",
              "      <td>весь привет 33 взять 44 000 рубль месяц 33 оче...</td>\n",
              "    </tr>\n",
              "    <tr>\n",
              "      <th>4</th>\n",
              "      <td>3905302</td>\n",
              "      <td>российский гроссмейстер сергей карякин заявить...</td>\n",
              "    </tr>\n",
              "    <tr>\n",
              "      <th>...</th>\n",
              "      <td>...</td>\n",
              "      <td>...</td>\n",
              "    </tr>\n",
              "    <tr>\n",
              "      <th>2621</th>\n",
              "      <td>998309713</td>\n",
              "      <td>типичный день трайхард ждать новый серия memes...</td>\n",
              "    </tr>\n",
              "    <tr>\n",
              "      <th>2622</th>\n",
              "      <td>998565619</td>\n",
              "      <td>игрок залезть товарищ присесть xyp9x делать вы...</td>\n",
              "    </tr>\n",
              "    <tr>\n",
              "      <th>2623</th>\n",
              "      <td>999112505</td>\n",
              "      <td>пара неделя остаться завершение кампания игра ...</td>\n",
              "    </tr>\n",
              "    <tr>\n",
              "      <th>2624</th>\n",
              "      <td>999361308</td>\n",
              "      <td>дарья касаткин соцсеть ﻿отреагировать выход по...</td>\n",
              "    </tr>\n",
              "    <tr>\n",
              "      <th>2625</th>\n",
              "      <td>999374432</td>\n",
              "      <td>добрый день 33 сегодня несколько игра кхл непл...</td>\n",
              "    </tr>\n",
              "  </tbody>\n",
              "</table>\n",
              "<p>2626 rows × 2 columns</p>\n",
              "</div>\n",
              "      <button class=\"colab-df-convert\" onclick=\"convertToInteractive('df-fdafecb5-b672-47f6-b953-debade816aa2')\"\n",
              "              title=\"Convert this dataframe to an interactive table.\"\n",
              "              style=\"display:none;\">\n",
              "        \n",
              "  <svg xmlns=\"http://www.w3.org/2000/svg\" height=\"24px\"viewBox=\"0 0 24 24\"\n",
              "       width=\"24px\">\n",
              "    <path d=\"M0 0h24v24H0V0z\" fill=\"none\"/>\n",
              "    <path d=\"M18.56 5.44l.94 2.06.94-2.06 2.06-.94-2.06-.94-.94-2.06-.94 2.06-2.06.94zm-11 1L8.5 8.5l.94-2.06 2.06-.94-2.06-.94L8.5 2.5l-.94 2.06-2.06.94zm10 10l.94 2.06.94-2.06 2.06-.94-2.06-.94-.94-2.06-.94 2.06-2.06.94z\"/><path d=\"M17.41 7.96l-1.37-1.37c-.4-.4-.92-.59-1.43-.59-.52 0-1.04.2-1.43.59L10.3 9.45l-7.72 7.72c-.78.78-.78 2.05 0 2.83L4 21.41c.39.39.9.59 1.41.59.51 0 1.02-.2 1.41-.59l7.78-7.78 2.81-2.81c.8-.78.8-2.07 0-2.86zM5.41 20L4 18.59l7.72-7.72 1.47 1.35L5.41 20z\"/>\n",
              "  </svg>\n",
              "      </button>\n",
              "      \n",
              "  <style>\n",
              "    .colab-df-container {\n",
              "      display:flex;\n",
              "      flex-wrap:wrap;\n",
              "      gap: 12px;\n",
              "    }\n",
              "\n",
              "    .colab-df-convert {\n",
              "      background-color: #E8F0FE;\n",
              "      border: none;\n",
              "      border-radius: 50%;\n",
              "      cursor: pointer;\n",
              "      display: none;\n",
              "      fill: #1967D2;\n",
              "      height: 32px;\n",
              "      padding: 0 0 0 0;\n",
              "      width: 32px;\n",
              "    }\n",
              "\n",
              "    .colab-df-convert:hover {\n",
              "      background-color: #E2EBFA;\n",
              "      box-shadow: 0px 1px 2px rgba(60, 64, 67, 0.3), 0px 1px 3px 1px rgba(60, 64, 67, 0.15);\n",
              "      fill: #174EA6;\n",
              "    }\n",
              "\n",
              "    [theme=dark] .colab-df-convert {\n",
              "      background-color: #3B4455;\n",
              "      fill: #D2E3FC;\n",
              "    }\n",
              "\n",
              "    [theme=dark] .colab-df-convert:hover {\n",
              "      background-color: #434B5C;\n",
              "      box-shadow: 0px 1px 3px 1px rgba(0, 0, 0, 0.15);\n",
              "      filter: drop-shadow(0px 1px 2px rgba(0, 0, 0, 0.3));\n",
              "      fill: #FFFFFF;\n",
              "    }\n",
              "  </style>\n",
              "\n",
              "      <script>\n",
              "        const buttonEl =\n",
              "          document.querySelector('#df-fdafecb5-b672-47f6-b953-debade816aa2 button.colab-df-convert');\n",
              "        buttonEl.style.display =\n",
              "          google.colab.kernel.accessAllowed ? 'block' : 'none';\n",
              "\n",
              "        async function convertToInteractive(key) {\n",
              "          const element = document.querySelector('#df-fdafecb5-b672-47f6-b953-debade816aa2');\n",
              "          const dataTable =\n",
              "            await google.colab.kernel.invokeFunction('convertToInteractive',\n",
              "                                                     [key], {});\n",
              "          if (!dataTable) return;\n",
              "\n",
              "          const docLinkHtml = 'Like what you see? Visit the ' +\n",
              "            '<a target=\"_blank\" href=https://colab.research.google.com/notebooks/data_table.ipynb>data table notebook</a>'\n",
              "            + ' to learn more about interactive tables.';\n",
              "          element.innerHTML = '';\n",
              "          dataTable['output_type'] = 'display_data';\n",
              "          await google.colab.output.renderOutput(dataTable, element);\n",
              "          const docLink = document.createElement('div');\n",
              "          docLink.innerHTML = docLinkHtml;\n",
              "          element.appendChild(docLink);\n",
              "        }\n",
              "      </script>\n",
              "    </div>\n",
              "  </div>\n",
              "  "
            ]
          },
          "metadata": {},
          "execution_count": 11
        }
      ]
    },
    {
      "cell_type": "code",
      "source": [],
      "metadata": {
        "id": "vCMxibimNtny"
      },
      "execution_count": null,
      "outputs": []
    },
    {
      "cell_type": "markdown",
      "source": [
        "# **Dictanories**"
      ],
      "metadata": {
        "id": "pQDcBuerNuUU"
      }
    },
    {
      "cell_type": "markdown",
      "source": [
        "**Dictanories**"
      ],
      "metadata": {
        "id": "BDRKkJ1KKBMv"
      }
    },
    {
      "cell_type": "code",
      "execution_count": 12,
      "metadata": {
        "colab": {
          "base_uri": "https://localhost:8080/"
        },
        "id": "KtflxQeixPHI",
        "outputId": "2d017abb-db45-45e7-fb27-d6ed70d8d572"
      },
      "outputs": [
        {
          "output_type": "stream",
          "name": "stderr",
          "text": [
            "[nltk_data] Downloading package punkt to /root/nltk_data...\n",
            "[nltk_data]   Unzipping tokenizers/punkt.zip.\n"
          ]
        }
      ],
      "source": [
        "import collections\n",
        "import nltk\n",
        "nltk.download('punkt')\n",
        "\n",
        "names=['athletics','autosport','basketball','boardgames','esport','extreme','football','hockey','martial_arts','motosport','tennis','volleyball','winter_sport']\n",
        "\n",
        "#calculate dictanories of words for each category\n",
        "vals=dict.fromkeys(names,collections.Counter())\n",
        "temp=dict.fromkeys(names,collections.Counter())\n",
        "for nn in names:\n",
        "  pd_cat=pd_train_res[pd_train_res[\"category\"].str.contains(nn)].copy()\n",
        "  pd_counts = collections.Counter()\n",
        "  for sent in pd_cat[\"text\"]:\n",
        "    words = nltk.word_tokenize(sent)  \n",
        "    pd_counts.update(words)  \n",
        "  vals[nn]=pd_counts.copy()\n",
        "  temp[nn]=pd_counts.copy()\n",
        "\n",
        "#calculate dufferences between dictanories of words for each by each category\n",
        "for i in names:  \n",
        "  for j in names:\n",
        "     if i!=j: vals[i].subtract(temp[j])\n",
        "train_dict_set=dict.fromkeys(names,())\n",
        "\n",
        "# Take only wors with possitive counts for each category\n",
        "for i in names:\n",
        "  train_dict_set[i]=set(x[0] for x in vals[i].most_common() if x[1]>0)"
      ]
    },
    {
      "cell_type": "code",
      "execution_count": 13,
      "metadata": {
        "colab": {
          "base_uri": "https://localhost:8080/"
        },
        "id": "HMVxFufa2Hyq",
        "outputId": "be68d938-73a2-4813-d13c-ae42dda7e669"
      },
      "outputs": [
        {
          "output_type": "stream",
          "name": "stdout",
          "text": [
            "[5436, 4988, 3089, 5100, 3316, 5939, 4986, 4057, 7077, 4421, 2465, 2846, 4723]\n"
          ]
        }
      ],
      "source": [
        "#check lenghts of sets train_dict_set[x]\n",
        "print([len(train_dict_set[x]) for x in names])"
      ]
    },
    {
      "cell_type": "code",
      "source": [],
      "metadata": {
        "id": "u0C_QStWN2eN"
      },
      "execution_count": null,
      "outputs": []
    },
    {
      "cell_type": "markdown",
      "source": [
        "# **Solve without ML**"
      ],
      "metadata": {
        "id": "Uw2eCWUoN25p"
      }
    },
    {
      "cell_type": "code",
      "source": [
        "def set_category(sent):\n",
        "  words = nltk.word_tokenize(sent)  \n",
        "  tres_cat=dict.fromkeys(names,[])\n",
        "  for i in names:\n",
        "    tres_cat[i]=list(train_dict_set[i]&set(words))\n",
        "  maxx=0\n",
        "  cat_name=\"\"  \n",
        "  for i in names:    \n",
        "    if maxx<len(tres_cat[i]): \n",
        "      maxx=len(tres_cat[i])      \n",
        "      cat_name=i\n",
        "  if maxx==0: \n",
        "    print(\"Warning: Empty category\")\n",
        "    \n",
        "  return cat_name"
      ],
      "metadata": {
        "id": "ZycLnxfOObs5"
      },
      "execution_count": 37,
      "outputs": []
    },
    {
      "cell_type": "code",
      "source": [
        "res_test=pd_test_res.copy()\n",
        "res_test['category']=res_test['text'].apply(set_category)\n",
        "res_test"
      ],
      "metadata": {
        "colab": {
          "base_uri": "https://localhost:8080/",
          "height": 424
        },
        "id": "rO5j0en-Obkf",
        "outputId": "e26448fa-a0c5-4b0b-9c4b-78f895816f7d"
      },
      "execution_count": 38,
      "outputs": [
        {
          "output_type": "execute_result",
          "data": {
            "text/plain": [
              "            oid                                               text    category\n",
              "0       1622114  стимулировать идти жить лёгкий атлетика пусть ...   athletics\n",
              "1       1663817  радиопереговоры пьер гаснуть момент авария рек...   autosport\n",
              "2       3174332  сет карри вылавливать сложный мяч забивать дуг...  basketball\n",
              "3       3469228  весь привет 33 взять 44 000 рубль месяц 33 оче...     extreme\n",
              "4       3905302  российский гроссмейстер сергей карякин заявить...  boardgames\n",
              "...         ...                                                ...         ...\n",
              "2621  998309713  типичный день трайхард ждать новый серия memes...      esport\n",
              "2622  998565619  игрок залезть товарищ присесть xyp9x делать вы...      esport\n",
              "2623  999112505  пара неделя остаться завершение кампания игра ...  boardgames\n",
              "2624  999361308  дарья касаткин соцсеть ﻿отреагировать выход по...      tennis\n",
              "2625  999374432  добрый день 33 сегодня несколько игра кхл непл...    football\n",
              "\n",
              "[2626 rows x 3 columns]"
            ],
            "text/html": [
              "\n",
              "  <div id=\"df-a5a6e30e-2637-4c35-b0cd-fe1700b28b25\">\n",
              "    <div class=\"colab-df-container\">\n",
              "      <div>\n",
              "<style scoped>\n",
              "    .dataframe tbody tr th:only-of-type {\n",
              "        vertical-align: middle;\n",
              "    }\n",
              "\n",
              "    .dataframe tbody tr th {\n",
              "        vertical-align: top;\n",
              "    }\n",
              "\n",
              "    .dataframe thead th {\n",
              "        text-align: right;\n",
              "    }\n",
              "</style>\n",
              "<table border=\"1\" class=\"dataframe\">\n",
              "  <thead>\n",
              "    <tr style=\"text-align: right;\">\n",
              "      <th></th>\n",
              "      <th>oid</th>\n",
              "      <th>text</th>\n",
              "      <th>category</th>\n",
              "    </tr>\n",
              "  </thead>\n",
              "  <tbody>\n",
              "    <tr>\n",
              "      <th>0</th>\n",
              "      <td>1622114</td>\n",
              "      <td>стимулировать идти жить лёгкий атлетика пусть ...</td>\n",
              "      <td>athletics</td>\n",
              "    </tr>\n",
              "    <tr>\n",
              "      <th>1</th>\n",
              "      <td>1663817</td>\n",
              "      <td>радиопереговоры пьер гаснуть момент авария рек...</td>\n",
              "      <td>autosport</td>\n",
              "    </tr>\n",
              "    <tr>\n",
              "      <th>2</th>\n",
              "      <td>3174332</td>\n",
              "      <td>сет карри вылавливать сложный мяч забивать дуг...</td>\n",
              "      <td>basketball</td>\n",
              "    </tr>\n",
              "    <tr>\n",
              "      <th>3</th>\n",
              "      <td>3469228</td>\n",
              "      <td>весь привет 33 взять 44 000 рубль месяц 33 оче...</td>\n",
              "      <td>extreme</td>\n",
              "    </tr>\n",
              "    <tr>\n",
              "      <th>4</th>\n",
              "      <td>3905302</td>\n",
              "      <td>российский гроссмейстер сергей карякин заявить...</td>\n",
              "      <td>boardgames</td>\n",
              "    </tr>\n",
              "    <tr>\n",
              "      <th>...</th>\n",
              "      <td>...</td>\n",
              "      <td>...</td>\n",
              "      <td>...</td>\n",
              "    </tr>\n",
              "    <tr>\n",
              "      <th>2621</th>\n",
              "      <td>998309713</td>\n",
              "      <td>типичный день трайхард ждать новый серия memes...</td>\n",
              "      <td>esport</td>\n",
              "    </tr>\n",
              "    <tr>\n",
              "      <th>2622</th>\n",
              "      <td>998565619</td>\n",
              "      <td>игрок залезть товарищ присесть xyp9x делать вы...</td>\n",
              "      <td>esport</td>\n",
              "    </tr>\n",
              "    <tr>\n",
              "      <th>2623</th>\n",
              "      <td>999112505</td>\n",
              "      <td>пара неделя остаться завершение кампания игра ...</td>\n",
              "      <td>boardgames</td>\n",
              "    </tr>\n",
              "    <tr>\n",
              "      <th>2624</th>\n",
              "      <td>999361308</td>\n",
              "      <td>дарья касаткин соцсеть ﻿отреагировать выход по...</td>\n",
              "      <td>tennis</td>\n",
              "    </tr>\n",
              "    <tr>\n",
              "      <th>2625</th>\n",
              "      <td>999374432</td>\n",
              "      <td>добрый день 33 сегодня несколько игра кхл непл...</td>\n",
              "      <td>football</td>\n",
              "    </tr>\n",
              "  </tbody>\n",
              "</table>\n",
              "<p>2626 rows × 3 columns</p>\n",
              "</div>\n",
              "      <button class=\"colab-df-convert\" onclick=\"convertToInteractive('df-a5a6e30e-2637-4c35-b0cd-fe1700b28b25')\"\n",
              "              title=\"Convert this dataframe to an interactive table.\"\n",
              "              style=\"display:none;\">\n",
              "        \n",
              "  <svg xmlns=\"http://www.w3.org/2000/svg\" height=\"24px\"viewBox=\"0 0 24 24\"\n",
              "       width=\"24px\">\n",
              "    <path d=\"M0 0h24v24H0V0z\" fill=\"none\"/>\n",
              "    <path d=\"M18.56 5.44l.94 2.06.94-2.06 2.06-.94-2.06-.94-.94-2.06-.94 2.06-2.06.94zm-11 1L8.5 8.5l.94-2.06 2.06-.94-2.06-.94L8.5 2.5l-.94 2.06-2.06.94zm10 10l.94 2.06.94-2.06 2.06-.94-2.06-.94-.94-2.06-.94 2.06-2.06.94z\"/><path d=\"M17.41 7.96l-1.37-1.37c-.4-.4-.92-.59-1.43-.59-.52 0-1.04.2-1.43.59L10.3 9.45l-7.72 7.72c-.78.78-.78 2.05 0 2.83L4 21.41c.39.39.9.59 1.41.59.51 0 1.02-.2 1.41-.59l7.78-7.78 2.81-2.81c.8-.78.8-2.07 0-2.86zM5.41 20L4 18.59l7.72-7.72 1.47 1.35L5.41 20z\"/>\n",
              "  </svg>\n",
              "      </button>\n",
              "      \n",
              "  <style>\n",
              "    .colab-df-container {\n",
              "      display:flex;\n",
              "      flex-wrap:wrap;\n",
              "      gap: 12px;\n",
              "    }\n",
              "\n",
              "    .colab-df-convert {\n",
              "      background-color: #E8F0FE;\n",
              "      border: none;\n",
              "      border-radius: 50%;\n",
              "      cursor: pointer;\n",
              "      display: none;\n",
              "      fill: #1967D2;\n",
              "      height: 32px;\n",
              "      padding: 0 0 0 0;\n",
              "      width: 32px;\n",
              "    }\n",
              "\n",
              "    .colab-df-convert:hover {\n",
              "      background-color: #E2EBFA;\n",
              "      box-shadow: 0px 1px 2px rgba(60, 64, 67, 0.3), 0px 1px 3px 1px rgba(60, 64, 67, 0.15);\n",
              "      fill: #174EA6;\n",
              "    }\n",
              "\n",
              "    [theme=dark] .colab-df-convert {\n",
              "      background-color: #3B4455;\n",
              "      fill: #D2E3FC;\n",
              "    }\n",
              "\n",
              "    [theme=dark] .colab-df-convert:hover {\n",
              "      background-color: #434B5C;\n",
              "      box-shadow: 0px 1px 3px 1px rgba(0, 0, 0, 0.15);\n",
              "      filter: drop-shadow(0px 1px 2px rgba(0, 0, 0, 0.3));\n",
              "      fill: #FFFFFF;\n",
              "    }\n",
              "  </style>\n",
              "\n",
              "      <script>\n",
              "        const buttonEl =\n",
              "          document.querySelector('#df-a5a6e30e-2637-4c35-b0cd-fe1700b28b25 button.colab-df-convert');\n",
              "        buttonEl.style.display =\n",
              "          google.colab.kernel.accessAllowed ? 'block' : 'none';\n",
              "\n",
              "        async function convertToInteractive(key) {\n",
              "          const element = document.querySelector('#df-a5a6e30e-2637-4c35-b0cd-fe1700b28b25');\n",
              "          const dataTable =\n",
              "            await google.colab.kernel.invokeFunction('convertToInteractive',\n",
              "                                                     [key], {});\n",
              "          if (!dataTable) return;\n",
              "\n",
              "          const docLinkHtml = 'Like what you see? Visit the ' +\n",
              "            '<a target=\"_blank\" href=https://colab.research.google.com/notebooks/data_table.ipynb>data table notebook</a>'\n",
              "            + ' to learn more about interactive tables.';\n",
              "          element.innerHTML = '';\n",
              "          dataTable['output_type'] = 'display_data';\n",
              "          await google.colab.output.renderOutput(dataTable, element);\n",
              "          const docLink = document.createElement('div');\n",
              "          docLink.innerHTML = docLinkHtml;\n",
              "          element.appendChild(docLink);\n",
              "        }\n",
              "      </script>\n",
              "    </div>\n",
              "  </div>\n",
              "  "
            ]
          },
          "metadata": {},
          "execution_count": 38
        }
      ]
    },
    {
      "cell_type": "markdown",
      "source": [
        "result is about 90-92%. "
      ],
      "metadata": {
        "id": "TYGqIiD1SBrU"
      }
    },
    {
      "cell_type": "code",
      "source": [],
      "metadata": {
        "id": "sgyfOClCObZB"
      },
      "execution_count": null,
      "outputs": []
    },
    {
      "cell_type": "markdown",
      "source": [
        "# **CatBoostClassifier**"
      ],
      "metadata": {
        "id": "PYXLAtGISUhx"
      }
    },
    {
      "cell_type": "markdown",
      "source": [
        "take union of intersections dyctanory for each category and text"
      ],
      "metadata": {
        "id": "otFgUQAtTZsQ"
      }
    },
    {
      "cell_type": "code",
      "source": [
        "def get_words(sent):\n",
        "  words = nltk.word_tokenize(sent)  \n",
        "  tres=[]\n",
        "  for i in names:\n",
        "    x=train_dict_set[i]&set(words)\n",
        "    tres+=list(x)\n",
        "  if len(tres)==0: \n",
        "    print(\"Warning: empty text\")\n",
        "    return \"\"\n",
        "  return \" \".join(tres)\n"
      ],
      "metadata": {
        "id": "shsOGlKRS2yY"
      },
      "execution_count": 18,
      "outputs": []
    },
    {
      "cell_type": "code",
      "execution_count": 19,
      "metadata": {
        "id": "mP9BsINg-amR"
      },
      "outputs": [],
      "source": [
        "new_test=pd_test_res.copy()\n",
        "new_test['text2']=new_test['text'].apply(get_words)"
      ]
    },
    {
      "cell_type": "code",
      "execution_count": 20,
      "metadata": {
        "id": "EVEFrNcq-4PK"
      },
      "outputs": [],
      "source": [
        "new_train=pd_train_res.copy()\n",
        "new_train['text2']=new_train['text'].apply(get_words)"
      ]
    },
    {
      "cell_type": "code",
      "execution_count": null,
      "metadata": {
        "id": "KuyK0tTHndR6"
      },
      "outputs": [],
      "source": [
        "new_train\n",
        "\n"
      ]
    },
    {
      "cell_type": "code",
      "execution_count": 21,
      "metadata": {
        "id": "2toBQHNhpXk6"
      },
      "outputs": [],
      "source": [
        "new_train.set_index('oid',inplace=True)\n",
        "new_test.set_index('oid',inplace=True)"
      ]
    },
    {
      "cell_type": "code",
      "execution_count": 22,
      "metadata": {
        "id": "As6qb3FDvFtn"
      },
      "outputs": [],
      "source": [
        "new_train.drop(columns=['text'], inplace=True)\n",
        "new_test.drop(columns=['text'], inplace=True)"
      ]
    },
    {
      "cell_type": "code",
      "source": [],
      "metadata": {
        "id": "SE5Ylf_jUekW"
      },
      "execution_count": null,
      "outputs": []
    },
    {
      "cell_type": "code",
      "execution_count": null,
      "metadata": {
        "id": "JeMDLKv5_KKI"
      },
      "outputs": [],
      "source": [
        "new_train.set_axis(['category','text'],inplace=True,axis=1)"
      ]
    },
    {
      "cell_type": "code",
      "execution_count": null,
      "metadata": {
        "id": "HBqHYAmF_eU0"
      },
      "outputs": [],
      "source": [
        "new_test.set_axis(['text'],inplace=True,axis=1)"
      ]
    },
    {
      "cell_type": "markdown",
      "source": [
        "**Create pool**"
      ],
      "metadata": {
        "id": "VO-hM2J0VQck"
      }
    },
    {
      "cell_type": "code",
      "execution_count": 23,
      "metadata": {
        "id": "2sAHQg9dhwph"
      },
      "outputs": [],
      "source": [
        "from sklearn.model_selection import train_test_split\n",
        "names=['athletics','autosport','basketball','boardgames','esport','extreme','football','hockey','martial_arts','motosport','tennis','volleyball','winter_sport']\n",
        "x_col = ['text2']\n",
        "y_col = ['category']\n",
        "text_features = ['text2']\n",
        "x_train, x_val, y_train, y_val = train_test_split(new_train[x_col], new_train[y_col], train_size=0.8)"
      ]
    },
    {
      "cell_type": "code",
      "execution_count": 24,
      "metadata": {
        "id": "oIyB-l8MY8ak"
      },
      "outputs": [],
      "source": [
        "from catboost import CatBoostClassifier, Pool, metrics, cv\n",
        "from sklearn.metrics import accuracy_score\n",
        "\n",
        "train_pool = Pool(x_train, y_train, text_features=text_features)\n",
        "validate_pool = Pool(x_val,y_val, text_features=text_features)\n",
        "all_pool=Pool(new_train[x_col],new_train[y_col], text_features=text_features)"
      ]
    },
    {
      "cell_type": "code",
      "execution_count": null,
      "metadata": {
        "id": "yS-kbV6zyWXZ"
      },
      "outputs": [],
      "source": []
    },
    {
      "cell_type": "code",
      "execution_count": 25,
      "metadata": {
        "id": "LkFE9AYuNyzp"
      },
      "outputs": [],
      "source": [
        "from catboost import CatBoostClassifier\n",
        "\n",
        "model = CatBoostClassifier(iterations=1000,\n",
        "                           text_features=text_features,\n",
        "                           task_type=\"GPU\",\n",
        "                           loss_function='MultiClass',                         \n",
        "                           verbose=500,                            \n",
        "                           random_seed=12,\n",
        "                           score_function='L2',\n",
        "                           )"
      ]
    },
    {
      "cell_type": "code",
      "execution_count": 26,
      "metadata": {
        "colab": {
          "base_uri": "https://localhost:8080/"
        },
        "id": "pP3BcsfHOPLw",
        "outputId": "683a9fbe-919b-4ce1-b46b-785202afef37"
      },
      "outputs": [
        {
          "output_type": "stream",
          "name": "stdout",
          "text": [
            "Learning rate set to 0.117881\n",
            "0:\tlearn: 2.0190548\ttest: 2.0184674\tbest: 2.0184674 (0)\ttotal: 28.8ms\tremaining: 28.8s\n",
            "500:\tlearn: 0.0295724\ttest: 0.0953918\tbest: 0.0949845 (439)\ttotal: 8.74s\tremaining: 8.7s\n",
            "999:\tlearn: 0.0118566\ttest: 0.0999668\tbest: 0.0949845 (439)\ttotal: 17.2s\tremaining: 0us\n",
            "bestTest = 0.09498451479\n",
            "bestIteration = 439\n",
            "Shrink model to first 440 iterations.\n"
          ]
        },
        {
          "output_type": "execute_result",
          "data": {
            "text/plain": [
              "<catboost.core.CatBoostClassifier at 0x7f2e1300b7c0>"
            ]
          },
          "metadata": {},
          "execution_count": 26
        }
      ],
      "source": [
        "model.fit(train_pool, eval_set=validate_pool)\n"
      ]
    },
    {
      "cell_type": "code",
      "execution_count": null,
      "metadata": {
        "colab": {
          "base_uri": "https://localhost:8080/"
        },
        "id": "feZi8BwUh7_n",
        "outputId": "c8c14f3c-a50c-473d-9847-32bafed38ed9"
      },
      "outputs": [
        {
          "output_type": "stream",
          "name": "stdout",
          "text": [
            "0:\tlearn: 2.1526710\ttotal: 38.2ms\tremaining: 34.4s\n",
            "500:\tlearn: 0.0358078\ttotal: 8.33s\tremaining: 6.64s\n",
            "899:\tlearn: 0.0173985\ttotal: 14.7s\tremaining: 0us\n"
          ]
        },
        {
          "output_type": "execute_result",
          "data": {
            "text/plain": [
              "<catboost.core.CatBoostClassifier at 0x7fdaf25ce820>"
            ]
          },
          "metadata": {},
          "execution_count": 346
        }
      ],
      "source": [
        "model.fit(all_pool)"
      ]
    },
    {
      "cell_type": "code",
      "execution_count": 27,
      "metadata": {
        "colab": {
          "base_uri": "https://localhost:8080/"
        },
        "id": "baytzXJMh3-l",
        "outputId": "404228a6-bafe-4772-df22-c7ec765ef2ee"
      },
      "outputs": [
        {
          "output_type": "execute_result",
          "data": {
            "text/plain": [
              "0.9983865763149403"
            ]
          },
          "metadata": {},
          "execution_count": 27
        }
      ],
      "source": [
        "model.score(x_train,y_train)"
      ]
    },
    {
      "cell_type": "code",
      "execution_count": 28,
      "metadata": {
        "colab": {
          "base_uri": "https://localhost:8080/"
        },
        "id": "K7H_X7GgQsLP",
        "outputId": "e68d38c2-7d89-432f-a288-68a5e62f68a4"
      },
      "outputs": [
        {
          "output_type": "execute_result",
          "data": {
            "text/plain": [
              "0.9754838709677419"
            ]
          },
          "metadata": {},
          "execution_count": 28
        }
      ],
      "source": [
        "model.score(x_val,y_val)"
      ]
    },
    {
      "cell_type": "code",
      "execution_count": 29,
      "metadata": {
        "id": "Y8rrm-SCrXTN",
        "colab": {
          "base_uri": "https://localhost:8080/"
        },
        "outputId": "188d72c7-ec38-4aa7-c3da-3f3fe088fb11"
      },
      "outputs": [
        {
          "output_type": "stream",
          "name": "stdout",
          "text": [
            "              precision    recall  f1-score   support\n",
            "\n",
            "   athletics       0.98      0.95      0.97        64\n",
            "   autosport       1.00      1.00      1.00        74\n",
            "  basketball       0.98      0.93      0.95        54\n",
            "  boardgames       0.98      1.00      0.99        60\n",
            "      esport       0.93      0.98      0.96        57\n",
            "     extreme       0.90      0.96      0.93        56\n",
            "    football       0.97      0.95      0.96        62\n",
            "      hockey       1.00      0.98      0.99        50\n",
            "martial_arts       0.93      0.93      0.93        61\n",
            "   motosport       1.00      0.98      0.99        59\n",
            "      tennis       1.00      1.00      1.00        54\n",
            "  volleyball       1.00      1.00      1.00        64\n",
            "winter_sport       1.00      1.00      1.00        60\n",
            "\n",
            "    accuracy                           0.98       775\n",
            "   macro avg       0.98      0.97      0.98       775\n",
            "weighted avg       0.98      0.98      0.98       775\n",
            "\n"
          ]
        }
      ],
      "source": [
        "from sklearn. metrics import classification_report\n",
        "print(classification_report(y_val,model.predict(x_val)))"
      ]
    },
    {
      "cell_type": "markdown",
      "source": [
        "**result is about 95% ** i stopped here. "
      ],
      "metadata": {
        "id": "L4MPS5LCVWZi"
      }
    }
  ],
  "metadata": {
    "accelerator": "GPU",
    "colab": {
      "provenance": []
    },
    "gpuClass": "standard",
    "kernelspec": {
      "display_name": "Python 3",
      "name": "python3"
    },
    "language_info": {
      "name": "python"
    }
  },
  "nbformat": 4,
  "nbformat_minor": 0
}
